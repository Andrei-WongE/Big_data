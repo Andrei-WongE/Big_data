{
  "nbformat": 4,
  "nbformat_minor": 0,
  "metadata": {
    "colab": {
      "provenance": [],
      "authorship_tag": "ABX9TyPIc4PQ1R2xUFmyiebcwPNx",
      "include_colab_link": true
    },
    "kernelspec": {
      "name": "python3",
      "display_name": "Python 3"
    },
    "language_info": {
      "name": "python"
    }
  },
  "cells": [
    {
      "cell_type": "markdown",
      "metadata": {
        "id": "view-in-github",
        "colab_type": "text"
      },
      "source": [
        "<a href=\"https://colab.research.google.com/github/Andrei-WongE/Big_data/blob/origin/Session_1.ipynb\" target=\"_parent\"><img src=\"https://colab.research.google.com/assets/colab-badge.svg\" alt=\"Open In Colab\"/></a>"
      ]
    },
    {
      "cell_type": "code",
      "execution_count": 1,
      "metadata": {
        "colab": {
          "base_uri": "https://localhost:8080/"
        },
        "id": "l6wkCZiVLSOj",
        "outputId": "096e2232-34cc-428f-bb17-244711930d03"
      },
      "outputs": [
        {
          "output_type": "stream",
          "name": "stdout",
          "text": [
            "No GPU, using /device:CPU:0.\n"
          ]
        }
      ],
      "source": [
        "#Need to first set up Colab’s runtime environment to use GPUs or TPUs instead of CPUs.\n",
        "# select “Change runtime type” under “Runtime” from Colab’s menu bar.\n",
        "\n",
        "import tensorflow as tf\n",
        "\n",
        "device_name = tf.test.gpu_device_name()\n",
        "if len(device_name) > 0:\n",
        "    print(\"Found GPU at: {}\".format(device_name))\n",
        "else:\n",
        "    device_name = \"/device:CPU:0\"\n",
        "    print(\"No GPU, using {}.\".format(device_name))"
      ]
    },
    {
      "cell_type": "code",
      "source": [
        "#Import drive library\n",
        "from google.colab import drive\n",
        "\n",
        "#mount location\n",
        "drive.mount('/content/drive')"
      ],
      "metadata": {
        "colab": {
          "base_uri": "https://localhost:8080/"
        },
        "id": "-WuDhKkthWp-",
        "outputId": "fa15b248-4f80-4ab9-d760-ad9fea3c7ef5"
      },
      "execution_count": 34,
      "outputs": [
        {
          "output_type": "stream",
          "name": "stdout",
          "text": [
            "Drive already mounted at /content/drive; to attempt to forcibly remount, call drive.mount(\"/content/drive\", force_remount=True).\n"
          ]
        }
      ]
    },
    {
      "cell_type": "code",
      "source": [
        "#OS from python\n",
        "import os\n",
        "\n",
        "mount = '/content/drive'\n",
        "drive_root = mount + \"/My Drive/Colab Notebooks/Big_data\"\n",
        "\n",
        "# Create drive_root if it doesn't exist\n",
        "create_drive_root = True\n",
        "if create_drive_root:\n",
        "  print(\"\\nColab: making sure \", drive_root, \" exists.\")\n",
        "  os.makedirs(drive_root, exist_ok=True)\n",
        "\n",
        "# Change to the directory\n",
        "print(\"\\nColab: Changing directory to \", drive_root)\n",
        "%cd $drive_root"
      ],
      "metadata": {
        "colab": {
          "base_uri": "https://localhost:8080/"
        },
        "id": "mk69eD_ahdae",
        "outputId": "f3d18edd-0d0b-4cba-ffb6-d8a26c5295db"
      },
      "execution_count": 35,
      "outputs": [
        {
          "output_type": "stream",
          "name": "stdout",
          "text": [
            "\n",
            "Colab: making sure  /content/drive/My Drive/Colab Notebooks/Big_data  exists.\n",
            "\n",
            "Colab: Changing directory to  /content/drive/My Drive/Colab Notebooks/Big_data\n",
            "/content/drive/My Drive/Colab Notebooks/Big_data\n"
          ]
        }
      ]
    },
    {
      "cell_type": "code",
      "source": [
        "#%load markdown_file.md"
      ],
      "metadata": {
        "id": "vshQsPPMhpzh"
      },
      "execution_count": null,
      "outputs": []
    },
    {
      "cell_type": "code",
      "source": [
        "import markdown\n",
        "\n",
        "filename = 'lab1-questions.md'\n",
        "Markdown(open(filename, encoding='utf-8').read())"
      ],
      "metadata": {
        "colab": {
          "base_uri": "https://localhost:8080/",
          "height": 367
        },
        "id": "o7ITUHX4hvOK",
        "outputId": "ff1d0709-e0d5-461b-93a8-cbf4ef58b55f"
      },
      "execution_count": 13,
      "outputs": [
        {
          "output_type": "error",
          "ename": "ModuleNotFoundError",
          "evalue": "No module named 'Markdown'",
          "traceback": [
            "\u001b[0;31m---------------------------------------------------------------------------\u001b[0m",
            "\u001b[0;31mModuleNotFoundError\u001b[0m                       Traceback (most recent call last)",
            "\u001b[0;32m<ipython-input-13-fb34371c8d6f>\u001b[0m in \u001b[0;36m<cell line: 1>\u001b[0;34m()\u001b[0m\n\u001b[0;32m----> 1\u001b[0;31m \u001b[0;32mimport\u001b[0m \u001b[0mMarkdown\u001b[0m\u001b[0;34m\u001b[0m\u001b[0;34m\u001b[0m\u001b[0m\n\u001b[0m\u001b[1;32m      2\u001b[0m \u001b[0;34m\u001b[0m\u001b[0m\n\u001b[1;32m      3\u001b[0m \u001b[0mfilename\u001b[0m \u001b[0;34m=\u001b[0m \u001b[0;34m'lab1-questions.md'\u001b[0m\u001b[0;34m\u001b[0m\u001b[0;34m\u001b[0m\u001b[0m\n\u001b[1;32m      4\u001b[0m \u001b[0mMarkdown\u001b[0m\u001b[0;34m(\u001b[0m\u001b[0mopen\u001b[0m\u001b[0;34m(\u001b[0m\u001b[0mfilename\u001b[0m\u001b[0;34m,\u001b[0m \u001b[0mencoding\u001b[0m\u001b[0;34m=\u001b[0m\u001b[0;34m'utf-8'\u001b[0m\u001b[0;34m)\u001b[0m\u001b[0;34m.\u001b[0m\u001b[0mread\u001b[0m\u001b[0;34m(\u001b[0m\u001b[0;34m)\u001b[0m\u001b[0;34m)\u001b[0m\u001b[0;34m\u001b[0m\u001b[0;34m\u001b[0m\u001b[0m\n",
            "\u001b[0;31mModuleNotFoundError\u001b[0m: No module named 'Markdown'",
            "",
            "\u001b[0;31m---------------------------------------------------------------------------\u001b[0;32m\nNOTE: If your import is failing due to a missing package, you can\nmanually install dependencies using either !pip or !apt.\n\nTo view examples of installing some common dependencies, click the\n\"Open Examples\" button below.\n\u001b[0;31m---------------------------------------------------------------------------\u001b[0m\n"
          ],
          "errorDetails": {
            "actions": [
              {
                "action": "open_url",
                "actionText": "Open Examples",
                "url": "/notebooks/snippets/importing_libraries.ipynb"
              }
            ]
          }
        }
      ]
    },
    {
      "cell_type": "code",
      "source": [
        "def linear_search(arr, x):\n",
        "    for i in range(len(arr)):\n",
        "        if arr[i] == x:\n",
        "            return i\n",
        "    return -1"
      ],
      "metadata": {
        "id": "9rFpqmAWiEec"
      },
      "execution_count": 14,
      "outputs": []
    },
    {
      "cell_type": "markdown",
      "source": [
        "TIP: Start using the conditional statement when creating programs. `if __name__ == \"__main__\"`\n",
        ">\n",
        "> This block often includes test code, demonstration code, or main application logic that you don't want to run if the file is imported as a module in another script."
      ],
      "metadata": {
        "id": "olIQgql0kQ0R"
      }
    },
    {
      "cell_type": "code",
      "source": [
        "if __name__ == \"__main__\":\n",
        "  data = [10,20,30,40,50,50,60,80,90,100]\n",
        "  result = linear_search(data,40)\n",
        "  print(result)"
      ],
      "metadata": {
        "colab": {
          "base_uri": "https://localhost:8080/"
        },
        "id": "HuDjdj7qkJ-f",
        "outputId": "49eb4ed0-ab23-4014-dd59-254de3852692"
      },
      "execution_count": 15,
      "outputs": [
        {
          "output_type": "stream",
          "name": "stdout",
          "text": [
            "3\n"
          ]
        }
      ]
    },
    {
      "cell_type": "code",
      "source": [
        "def get_it(arr):\n",
        "    for i in arr:\n",
        "      return i\n",
        "\n",
        "if __name__ == \"__main__\":\n",
        "  data = [10,20,30,40,50,50,60,80,90,100]\n",
        "  print(get_it(data))"
      ],
      "metadata": {
        "colab": {
          "base_uri": "https://localhost:8080/"
        },
        "id": "loYziujZlV8I",
        "outputId": "094270d8-671e-489c-8fd0-b3c12460aca5"
      },
      "execution_count": 23,
      "outputs": [
        {
          "output_type": "stream",
          "name": "stdout",
          "text": [
            "10\n"
          ]
        }
      ]
    },
    {
      "cell_type": "code",
      "source": [
        "def sum_elements(arr):\n",
        "    total = 0\n",
        "    for num in arr:\n",
        "        total += num\n",
        "    return total\n",
        "\n",
        "if __name__ == \"__main__\":\n",
        "  data = [10,20,30,40,50,50,60,80,90,100]\n",
        "  print(sum_elements(data))"
      ],
      "metadata": {
        "colab": {
          "base_uri": "https://localhost:8080/"
        },
        "id": "L4Bh0CallYkH",
        "outputId": "1bc6120a-a7c7-4471-f9fc-5732af67c68b"
      },
      "execution_count": 28,
      "outputs": [
        {
          "output_type": "stream",
          "name": "stdout",
          "text": [
            "530\n"
          ]
        }
      ]
    },
    {
      "cell_type": "code",
      "source": [
        "data = (10,20,30,40,50,50,60,80,90,100)\n",
        "sum(data)"
      ],
      "metadata": {
        "colab": {
          "base_uri": "https://localhost:8080/"
        },
        "id": "qxnxr4OsnjvK",
        "outputId": "3309b03a-1933-4ace-fb87-91290a2e3f94"
      },
      "execution_count": 29,
      "outputs": [
        {
          "output_type": "execute_result",
          "data": {
            "text/plain": [
              "530"
            ]
          },
          "metadata": {},
          "execution_count": 29
        }
      ]
    },
    {
      "cell_type": "code",
      "source": [
        "def count_characters(filename):\n",
        "  count=0\n",
        "  with open(filename, 'r') as file:\n",
        "    for char in file:\n",
        "      count+=1\n",
        "\n",
        "  return count\n",
        "\n",
        "if __name__ == \"__main__\":\n",
        "  filename = 'file1.txt'\n",
        "  try:\n",
        "      counts = count_characters(filename)\n",
        "      print(\"Letter counts:\", counts)\n",
        "  except FileNotFoundError:\n",
        "      print(\"File not found\")"
      ],
      "metadata": {
        "colab": {
          "base_uri": "https://localhost:8080/"
        },
        "id": "GmlkjlVgo0d7",
        "outputId": "169515bf-6ffe-4cb0-d6ec-c31eee43724a"
      },
      "execution_count": 37,
      "outputs": [
        {
          "output_type": "stream",
          "name": "stdout",
          "text": [
            "File not found\n"
          ]
        }
      ]
    }
  ]
}